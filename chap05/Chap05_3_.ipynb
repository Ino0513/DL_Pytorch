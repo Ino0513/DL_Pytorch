{
 "cells": [
  {
   "cell_type": "code",
   "execution_count": 3,
   "metadata": {},
   "outputs": [],
   "source": [
    "import os\n",
    "import time\n",
    "import copy\n",
    "# import glov\n",
    "import cv2\n",
    "import shutil\n",
    "\n",
    "import torch\n",
    "import torchvision\n",
    "import torchvision.transforms as transforms\n",
    "import torchvision.models as models\n",
    "import torch.nn as nn\n",
    "import torch.optim as optim\n",
    "from torch.utils.data import DataLoader\n",
    "\n",
    "import matplotlib.pyplot as plt"
   ]
  },
  {
   "cell_type": "code",
   "execution_count": 4,
   "metadata": {},
   "outputs": [
    {
     "name": "stdout",
     "output_type": "stream",
     "text": [
      "385\n"
     ]
    }
   ],
   "source": [
    "data_path = 'data/catanddog/train'\n",
    "\n",
    "trsf = transforms.Compose(\n",
    "    [\n",
    "        transforms.Resize([256, 256]),\n",
    "        transforms.RandomResizedCrop(224),\n",
    "        transforms.RandomHorizontalFlip(),\n",
    "        transforms.ToTensor()\n",
    "    ]\n",
    ")\n",
    "# torchvision.transforms -> 이미지 데이터를 변환하여 모델의 입력으로 사용할 수 있게 변환\n",
    "# Resize : 이미지의 크기를 재조정\n",
    "# RandomResizedCrop : 랜덤한 크기 및 비율로 자름\n",
    "# RandomHorizontalFlip : 이미지를 랜덤하게 수평으로 뒤집음\n",
    "# ToTensor : 이미지 데이터를 텐서로 변환\n",
    "\n",
    "train_dataset = torchvision.datasets.ImageFolder(\n",
    "    data_path, transform= trsf\n",
    ")\n",
    "# ImageFolder -> 데이터로더가 데이터를 불러올 경로와 방법\n",
    "\n",
    "train_loader = torch.utils.data.DataLoader(\n",
    "    train_dataset,\n",
    "    batch_size= 32,\n",
    "    num_workers= 8,\n",
    "    shuffle= True\n",
    ")\n",
    "\n",
    "print(len(train_dataset))"
   ]
  },
  {
   "cell_type": "code",
   "execution_count": null,
   "metadata": {},
   "outputs": [],
   "source": []
  }
 ],
 "metadata": {
  "kernelspec": {
   "display_name": "torch_book",
   "language": "python",
   "name": "python3"
  },
  "language_info": {
   "codemirror_mode": {
    "name": "ipython",
    "version": 3
   },
   "file_extension": ".py",
   "mimetype": "text/x-python",
   "name": "python",
   "nbconvert_exporter": "python",
   "pygments_lexer": "ipython3",
   "version": "3.9.0"
  }
 },
 "nbformat": 4,
 "nbformat_minor": 2
}
